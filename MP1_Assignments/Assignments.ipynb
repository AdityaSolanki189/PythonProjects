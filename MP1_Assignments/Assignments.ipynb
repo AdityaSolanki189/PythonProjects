{
 "metadata": {
  "language_info": {
   "codemirror_mode": {
    "name": "ipython",
    "version": 3
   },
   "file_extension": ".py",
   "mimetype": "text/x-python",
   "name": "python",
   "nbconvert_exporter": "python",
   "pygments_lexer": "ipython3",
   "version": "3.8.5-final"
  },
  "orig_nbformat": 2,
  "kernelspec": {
   "name": "python38564bitd9c33ea71fb94191a410a49b9b438436",
   "display_name": "Python 3.8.5 64-bit",
   "language": "python"
  }
 },
 "nbformat": 4,
 "nbformat_minor": 2,
 "cells": [
  {
   "cell_type": "code",
   "execution_count": 33,
   "metadata": {
    "tags": []
   },
   "outputs": [
    {
     "output_type": "stream",
     "name": "stdout",
     "text": "1307674368000\n"
    }
   ],
   "source": [
    "#Finding Factorial Of A Non-Negative Integer :-\n",
    "\n",
    "number = int(input(\"Enter A Number : \"))\n",
    "fact = 1\n",
    "for i in range(0,number):\n",
    "    fact += fact*i\n",
    "print(fact) "
   ]
  },
  {
   "cell_type": "code",
   "execution_count": 1,
   "metadata": {
    "tags": []
   },
   "outputs": [
    {
     "output_type": "stream",
     "name": "stdout",
     "text": [
      "Fibonacci Series :-\n0\n1\n1\n2\n3\n5\n8\n"
     ]
    }
   ],
   "source": [
    "#Fibonacci Series Using Recursion :-\n",
    "\n",
    "def fibo_rec(n):\n",
    "    if n <= 1:\n",
    "        return n\n",
    "    else:\n",
    "        return (fibo_rec(n-1) + fibo_rec(n-2))\n",
    "\n",
    "num = int(input(\"Enter A Number : \"))\n",
    "\n",
    "print(\"Fibonacci Series :-\") \n",
    "\n",
    "for i in range(num):\n",
    "    print(fibo_rec(i))\n"
   ]
  },
  {
   "cell_type": "code",
   "execution_count": 2,
   "metadata": {
    "tags": []
   },
   "outputs": [
    {
     "output_type": "stream",
     "name": "stdout",
     "text": [
      "GCD : 1\n"
     ]
    }
   ],
   "source": [
    "#Finding GCD Of Two Numbers :-\n",
    "#Method 1: \n",
    "a = int(input(\"Enter First Number : \"))\n",
    "b = int(input(\"Enter Second Number :\"))\n",
    "i = 1\n",
    "while(i<=a and b<=b):\n",
    "    if(a%i == 0 and b%i == 0):\n",
    "        gcd = i\n",
    "    i+=1\n",
    "print(\"GCD :\",gcd)"
   ]
  },
  {
   "cell_type": "code",
   "execution_count": 44,
   "metadata": {
    "tags": []
   },
   "outputs": [
    {
     "output_type": "stream",
     "name": "stdout",
     "text": "GCD : 2\n"
    }
   ],
   "source": [
    "#Finding GCD Of Two Numbers :-\n",
    "#Method 2:\n",
    "a = int(input(\"Enter First Number : \"))\n",
    "b = int(input(\"Enter Second Number :\"))\n",
    "while(b!=0):\n",
    "    c = a%b\n",
    "    a = b\n",
    "    b = c\n",
    "print(\"GCD :\",a)"
   ]
  },
  {
   "cell_type": "code",
   "execution_count": 3,
   "metadata": {
    "tags": []
   },
   "outputs": [
    {
     "output_type": "stream",
     "name": "stdout",
     "text": [
      "1010\n"
     ]
    }
   ],
   "source": [
    "#Converting An Integer To A String (in any Base)\n",
    "#Binary,Octal,Decimal,Hexa-decimal\n",
    "def convert(n,base):\n",
    "   convertString = \"0123456789ABCDEF\"\n",
    "   if n < base:\n",
    "      return convertString[n]\n",
    "   else:\n",
    "      return convert(n//base,base) + convertString[n%base]\n",
    "\n",
    "num = int(input(\"Enter An Integer : \"))\n",
    "base = int(input(\"Enter The Base Of Conversion :\"))\n",
    "print(convert(num,base))"
   ]
  },
  {
   "cell_type": "code",
   "execution_count": 25,
   "metadata": {
    "tags": []
   },
   "outputs": [
    {
     "output_type": "stream",
     "name": "stdout",
     "text": "String 1: 12 and String 2: 18\n"
    }
   ],
   "source": [
    "#String Manipulation In Python\n",
    "str1 = \"Aditya\"    #input(\"Enter First String :\")\n",
    "str2 = \"Solanki\"   #input(\"Enter Second String :\")\n",
    "my_str = str1 +' '+ str2\n",
    "print(\"Concatination : \"+my_str)\n",
    "print(\"Length Of First String : %s\"%len(str1))\n",
    "print(\"Length Of Second String : %s\"%len(str2))\n",
    "print (\"Reversed String : \"+''.join(reversed(my_str)))\n",
    "print (\"Sliced String : \"+my_str[2:12])\n",
    "rep_str = \"Preksha\" #input(\"Enter Any Word :\")\n",
    "print(\"Replaced String : \"+my_str.replace(\"Aditya\",rep_str))\n",
    "char = 'i'          #input(\"Enter Any Character :\")\n",
    "print(\"Occurance In \"+str1+\" : %s\"%str1.count('i'))\n",
    "print(\"Occurance In \"+my_str+\" : %s\"%my_str.count('i'))\n",
    "print(str1.startswith('A'))\n",
    "print(str2.endswith('A'))\n"
   ]
  }
 ]
}