{
 "metadata": {
  "language_info": {
   "codemirror_mode": {
    "name": "ipython",
    "version": 3
   },
   "file_extension": ".py",
   "mimetype": "text/x-python",
   "name": "python",
   "nbconvert_exporter": "python",
   "pygments_lexer": "ipython3",
   "version": "3.8.5-final"
  },
  "orig_nbformat": 2,
  "kernelspec": {
   "name": "python38564bitd9c33ea71fb94191a410a49b9b438436",
   "display_name": "Python 3.8.5 64-bit"
  }
 },
 "nbformat": 4,
 "nbformat_minor": 2,
 "cells": [
  {
   "cell_type": "code",
   "execution_count": 1,
   "metadata": {
    "tags": []
   },
   "outputs": [
    {
     "output_type": "stream",
     "name": "stdout",
     "text": "This is my Score : 100\n"
    }
   ],
   "source": [
    "score = 100\n",
    "message = \"This is my Score : %s\"\n",
    "print(message % score)"
   ]
  },
  {
   "cell_type": "code",
   "execution_count": 2,
   "metadata": {
    "tags": []
   },
   "outputs": [
    {
     "output_type": "stream",
     "name": "stdout",
     "text": "Product of 45 and 89 is : 4005\n"
    }
   ],
   "source": [
    "nums = \"Product of %s and %s is : %s\"\n",
    "a = 45\n",
    "b = 89\n",
    "pro = a*b\n",
    "print(nums % (a,b,pro))"
   ]
  },
  {
   "cell_type": "code",
   "execution_count": 13,
   "metadata": {
    "tags": []
   },
   "outputs": [
    {
     "output_type": "stream",
     "name": "stdout",
     "text": "hey \tYo\nhey \tYo\nhey \tYo\nhey \tYo\nhey \tYo\n\n"
    }
   ],
   "source": [
    "message = \"hey \\tYo\\n\"\n",
    "print(message*5)"
   ]
  },
  {
   "cell_type": "code",
   "execution_count": 75,
   "metadata": {
    "tags": []
   },
   "outputs": [
    {
     "output_type": "stream",
     "name": "stdout",
     "text": "These are cool :-\n32 GB ram\nrtx 2080Ti\nlogitech G102\nBut...\nmost important : 144 Hz Monitor\n"
    }
   ],
   "source": [
    "#lists in python (better than strings? Maybe....Yes)\n",
    "my_list = ['rtx 2080Ti','32 GB ram','144 Hz Monitor','logitech G102']\n",
    "print(\"These are cool :-\\n\"+my_list[1]+\"\\n\"+my_list[0]+\"\\n\"+my_list[3]+\"\\n\"+\"But...\")\n",
    "message = \"most important : %s\"\n",
    "print(message % my_list[2])"
   ]
  },
  {
   "cell_type": "code",
   "execution_count": 76,
   "metadata": {
    "tags": []
   },
   "outputs": [
    {
     "output_type": "stream",
     "name": "stdout",
     "text": "[['rtx 2080Ti', '32 GB ram', '144 Hz Monitor', 'logitech G102'], ['Adobe Photoshop', 'Visual Studio Code', 'Firefox', 'qBittorrent'], [1, 2, 3, 4]]\n"
    }
   ],
   "source": [
    "my_rig = ['rtx 2080Ti','32 GB ram','144 Hz Monitor','logitech G102']\n",
    "my_apps = ['Adobe Photoshop','Visual Studio Code','Firefox','qBittorrent']\n",
    "my_nums = [1,2,3,4]\n",
    "All = [my_rig,my_apps,my_nums]\n",
    "print(All)"
   ]
  },
  {
   "cell_type": "code",
   "execution_count": 77,
   "metadata": {
    "tags": []
   },
   "outputs": [
    {
     "output_type": "stream",
     "name": "stdout",
     "text": "['Adobe Photoshop', 'Visual Studio Code', 'Firefox', 'qBittorrent', 'Spotify', 'Android Studio', 'Epic Games', 'rtx 2080Ti', '32 GB ram', '144 Hz Monitor', 'logitech G102', 'Corsair Vengeance Motherboard', '2TB HDD']\n"
    }
   ],
   "source": [
    "#adding items to the list\n",
    "my_apps.append('Spotify')\n",
    "my_apps.append('Android Studio')\n",
    "my_apps.append('Epic Games')\n",
    "my_rig.append('Corsair Vengeance Motherboard')\n",
    "my_rig.append('2TB HDD')\n",
    "print(my_apps + my_rig)"
   ]
  },
  {
   "cell_type": "code",
   "execution_count": 78,
   "metadata": {
    "tags": []
   },
   "outputs": [
    {
     "output_type": "stream",
     "name": "stdout",
     "text": "[['rtx 2080Ti', '32 GB ram', '144 Hz Monitor', 'logitech G102', 'Corsair Vengeance Motherboard', '2TB SSD'], ['Adobe Photoshop', 'Visual Studio Code', 'Firefox', 'qBittorrent', 'Spotify', 'Android Studio'], [1, 2, 3, 4, 5]]\n"
    }
   ],
   "source": [
    "del my_apps[6]\n",
    "del my_rig[5]\n",
    "my_nums.append(5)\n",
    "my_rig.append('2TB SSD')\n",
    "print(All)"
   ]
  },
  {
   "cell_type": "code",
   "execution_count": 80,
   "metadata": {
    "tags": []
   },
   "outputs": [
    {
     "output_type": "stream",
     "name": "stdout",
     "text": "nub\n"
    }
   ],
   "source": [
    "#If and Elif statements\n",
    "kills = 10\n",
    "if kills <= 10:\n",
    "    print(\"nub\")\n",
    "elif kills <= 20:\n",
    "    print(\"pro\")\n",
    "else:\n",
    "    print(\"modder\")"
   ]
  },
  {
   "cell_type": "code",
   "execution_count": 110,
   "metadata": {
    "tags": []
   },
   "outputs": [
    {
     "output_type": "stream",
     "name": "stdout",
     "text": "1 Adobe Photoshop rtx 2080Ti\n2 Visual Studio Code 32 GB ram\n3 Firefox 144 Hz Monitor\n4 qBittorrent logitech G102\n5 Spotify Corsair Vengeance Motherboard\n"
    }
   ],
   "source": [
    "for i in range(0,5):\n",
    "    print(my_nums[i], my_apps[i], my_rig[i])"
   ]
  },
  {
   "cell_type": "code",
   "execution_count": 18,
   "metadata": {
    "tags": []
   },
   "outputs": [
    {
     "output_type": "stream",
     "name": "stdout",
     "text": "DITY\nDITYA\nADITY\n"
    }
   ],
   "source": [
    "#strip func\n",
    "str = \"ADITYA\"\n",
    "print (str.strip('A'))\n",
    "print (str.lstrip('A'))\n",
    "print (str.rstrip('A'))"
   ]
  },
  {
   "cell_type": "code",
   "execution_count": 81,
   "metadata": {
    "tags": []
   },
   "outputs": [
    {
     "output_type": "stream",
     "name": "stdout",
     "text": "Concatination : Aditya Solanki\nLength Of First String : 6\nLength Of Second String : 7\nReversed String : iknaloS aytidA\nSliced String : itya Solan\nReplaced String : Preksha Solanki\nOccurance In Aditya : 1\nOccurance In Aditya Solanki : 2\nTrue\nFalse\n"
    }
   ],
   "source": [
    "#String Manipulation In Python\n",
    "str1 = \"Aditya\"    #input(\"Enter First String :\")\n",
    "str2 = \"Solanki\"   #input(\"Enter Second String :\")\n",
    "my_str = str1 +' '+ str2\n",
    "print(\"Concatination : \"+my_str)\n",
    "print(\"Length Of First String : %s\"%len(str1))\n",
    "print(\"Length Of Second String : %s\"%len(str2))\n",
    "print (\"Reversed String : \"+''.join(reversed(my_str)))\n",
    "print (\"Sliced String : \"+my_str[2:12])\n",
    "rep_str = \"Preksha\" #input(\"Enter Any Word :\")\n",
    "print(\"Replaced String : \"+my_str.replace(\"Aditya\",rep_str))\n",
    "char = 'i'          #input(\"Enter Any Character :\")\n",
    "print(\"Occurance In \"+str1+\" : %s\"%str1.count('i'))\n",
    "print(\"Occurance In \"+my_str+\" : %s\"%my_str.count('i'))\n",
    "print(str1.startswith('A'))\n",
    "print(str2.endswith('A'))"
   ]
  },
  {
   "cell_type": "code",
   "execution_count": null,
   "metadata": {},
   "outputs": [],
   "source": []
  }
 ]
}